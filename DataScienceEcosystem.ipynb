{
 "cells": [
  {
   "cell_type": "markdown",
   "id": "ff885b08",
   "metadata": {},
   "source": [
    "# Data Science Tools and Ecosystem"
   ]
  },
  {
   "cell_type": "markdown",
   "id": "d1ba6843",
   "metadata": {},
   "source": [
    "In this notebook, Data Science Tools and Ecosystem are summarized."
   ]
  },
  {
   "cell_type": "markdown",
   "id": "2b687adb",
   "metadata": {},
   "source": [
    "Some of the popular languages that Data Scientists use are:\n",
    "1. Python\n",
    "2. R\n",
    "3. JAVA"
   ]
  },
  {
   "cell_type": "markdown",
   "id": "0c61061e",
   "metadata": {},
   "source": [
    "Some of the commonly used libraries used by Data Scientists include:\n",
    "1. Scikit-Learn\n",
    "2. Pytorch\n",
    "3. Tensorflow"
   ]
  },
  {
   "cell_type": "markdown",
   "id": "2f61edaa",
   "metadata": {},
   "source": [
    "|Data Science Tools|\n",
    "|------------------|\n",
    "|D3|\n",
    "|MATLAB|\n",
    "|SPARK|"
   ]
  },
  {
   "cell_type": "markdown",
   "id": "71e86491",
   "metadata": {},
   "source": [
    "### Below are a few examples of evaluating arithmetic expressions in Python\n"
   ]
  },
  {
   "cell_type": "code",
   "execution_count": 5,
   "id": "b6660bbe",
   "metadata": {},
   "outputs": [
    {
     "name": "stdout",
     "output_type": "stream",
     "text": [
      "17\n"
     ]
    }
   ],
   "source": [
    "#This a simple arithmetic expression to mutiply then add integers\n",
    "a=3\n",
    "b=4\n",
    "c=5\n",
    "r=(a*b)+c\n",
    "print(r)"
   ]
  },
  {
   "cell_type": "code",
   "execution_count": 6,
   "id": "257d5ccf",
   "metadata": {},
   "outputs": [
    {
     "name": "stdout",
     "output_type": "stream",
     "text": [
      "3.3333333333333335\n"
     ]
    }
   ],
   "source": [
    "#This will convert 200 minutes to hours by diving by 60\n",
    "minutes=200\n",
    "s=minutes/60\n",
    "print(s)"
   ]
  },
  {
   "cell_type": "markdown",
   "id": "4d73434d",
   "metadata": {},
   "source": [
    "**Objectives**\n",
    "- List popular languages for Data Science\n",
    "- Discuss the different classes of machine learning models.\n",
    "- Identify the languages, tools, and data used by data scientists.\n",
    "- Access and explore data sets in the Data Asset Exchange (DAX).\n",
    "- Explain the function of an API and list some common API-related terms."
   ]
  },
  {
   "cell_type": "markdown",
   "id": "98015984",
   "metadata": {},
   "source": [
    "## AUTHOR\n",
    "MUHAMMAD ZOHAIB KHAN"
   ]
  }
 ],
 "metadata": {
  "kernelspec": {
   "display_name": "Python 3 (ipykernel)",
   "language": "python",
   "name": "python3"
  },
  "language_info": {
   "codemirror_mode": {
    "name": "ipython",
    "version": 3
   },
   "file_extension": ".py",
   "mimetype": "text/x-python",
   "name": "python",
   "nbconvert_exporter": "python",
   "pygments_lexer": "ipython3",
   "version": "3.9.13"
  }
 },
 "nbformat": 4,
 "nbformat_minor": 5
}
